{
 "cells": [
  {
   "cell_type": "code",
   "execution_count": 26,
   "id": "48c2d5d0-e1c1-4c25-8599-06cba4956a67",
   "metadata": {},
   "outputs": [],
   "source": [
    "import os\n",
    "import random\n",
    "import copy\n",
    "import time\n",
    "from pathlib import Path\n",
    "\n",
    "\n",
    "import numpy as np\n",
    "from tqdm import tqdm\n",
    "\n",
    "\n",
    "import torch\n",
    "import torch.nn as nn\n",
    "from torch.optim import lr_scheduler\n",
    "from torch.utils.data import DataLoader, random_split\n",
    "from torchvision import datasets, transforms, models\n",
    "\n",
    "\n",
    "from sklearn.metrics import accuracy_score, precision_recall_fscore_support, confusion_matrix\n",
    "import matplotlib.pyplot as plt"
   ]
  },
  {
   "cell_type": "code",
   "execution_count": 27,
   "id": "14f83ed2-f654-4e85-99b4-030c2577ed42",
   "metadata": {},
   "outputs": [],
   "source": [
    "# ---------------------------\n",
    "# Config\n",
    "# ---------------------------\n",
    "DATA_DIR = \"Dataset\" # change if needed\n",
    "BATCH_SIZE = 32\n",
    "NUM_EPOCHS = 20\n",
    "LR = 1e-3\n",
    "WEIGHT_DECAY = 1e-4\n",
    "IMAGE_SIZE = 224\n",
    "NUM_WORKERS = 4\n",
    "PIN_MEMORY = True\n",
    "RANDOM_SEED = 42\n",
    "BEST_MODEL_PATH = \"best_resnet18_materials.pth\"\n",
    "DEVICE = torch.device(\"cuda\" if torch.cuda.is_available() else \"cpu\")\n",
    "\n",
    "\n",
    "# fix seeds for reproducibility\n",
    "random.seed(RANDOM_SEED)\n",
    "np.random.seed(RANDOM_SEED)\n",
    "torch.manual_seed(RANDOM_SEED)\n",
    "if torch.cuda.is_available():\n",
    "    torch.cuda.manual_seed_all(RANDOM_SEED)"
   ]
  },
  {
   "cell_type": "code",
   "execution_count": 28,
   "id": "956d90b5-dda7-4306-8572-edf98ce97a0e",
   "metadata": {},
   "outputs": [],
   "source": [
    "\n",
    "\n",
    "# ---------------------------\n",
    "# Transforms (augmentation + preprocessing)\n",
    "# ---------------------------\n",
    "train_transforms = transforms.Compose([\n",
    "transforms.RandomResizedCrop(IMAGE_SIZE, scale=(0.8, 1.0)),\n",
    "transforms.RandomHorizontalFlip(p=0.5),\n",
    "transforms.RandomApply([transforms.ColorJitter(0.3, 0.3, 0.2, 0.1)], p=0.5),\n",
    "transforms.RandomRotation(10),\n",
    "transforms.ToTensor(),\n",
    "transforms.Normalize(mean=[0.485, 0.456, 0.406], std=[0.229, 0.224, 0.225]),\n",
    "])\n",
    "\n",
    "\n",
    "val_transforms = transforms.Compose([\n",
    "transforms.Resize((IMAGE_SIZE, IMAGE_SIZE)),\n",
    "transforms.ToTensor(),\n",
    "transforms.Normalize(mean=[0.485, 0.456, 0.406], std=[0.229, 0.224, 0.225]),\n",
    "])"
   ]
  },
  {
   "cell_type": "code",
   "execution_count": 29,
   "id": "4dc248ff-8128-429b-b50f-571997ad65e8",
   "metadata": {},
   "outputs": [
    {
     "name": "stdout",
     "output_type": "stream",
     "text": [
      "Found classes: ['e-waste', 'fabric', 'metal', 'paper', 'plastic'] (n=5)\n"
     ]
    }
   ],
   "source": [
    "# ---------------------------\n",
    "# Dataset & Dataloaders\n",
    "# ---------------------------\n",
    "if not os.path.isdir(DATA_DIR):\n",
    "    raise FileNotFoundError(f\"Dataset folder not found at {DATA_DIR}. Update DATA_DIR variable.\")\n",
    "\n",
    "\n",
    "full_dataset = datasets.ImageFolder(root=DATA_DIR, transform=train_transforms)\n",
    "class_names = full_dataset.classes\n",
    "num_classes = len(class_names)\n",
    "print(f\"Found classes: {class_names} (n={num_classes})\")\n",
    "\n",
    "\n",
    "# Split dataset into train / val (80/20)\n",
    "num_images = len(full_dataset)\n",
    "val_pct = 0.2\n",
    "val_size = int(num_images * val_pct)\n",
    "train_size = num_images - val_size\n",
    "train_dataset, val_dataset = random_split(full_dataset, [train_size, val_size], generator=torch.Generator().manual_seed(RANDOM_SEED))"
   ]
  },
  {
   "cell_type": "code",
   "execution_count": 30,
   "id": "bb0d35ab-47ed-4658-9add-f3279c2b97cf",
   "metadata": {},
   "outputs": [
    {
     "name": "stdout",
     "output_type": "stream",
     "text": [
      "Train images: 8818, Val images: 2204\n"
     ]
    }
   ],
   "source": [
    "# Important: the validation dataset should use val_transforms\n",
    "# random_split returns Subset wrappers; we need to replace the transform\n",
    "train_dataset.dataset.transform = train_transforms\n",
    "val_dataset.dataset.transform = val_transforms\n",
    "\n",
    "\n",
    "train_loader = DataLoader(train_dataset, batch_size=BATCH_SIZE, shuffle=True, num_workers=NUM_WORKERS, pin_memory=PIN_MEMORY)\n",
    "val_loader = DataLoader(val_dataset, batch_size=BATCH_SIZE, shuffle=False, num_workers=NUM_WORKERS, pin_memory=PIN_MEMORY)\n",
    "\n",
    "\n",
    "print(f\"Train images: {len(train_dataset)}, Val images: {len(val_dataset)}\")"
   ]
  },
  {
   "cell_type": "code",
   "execution_count": 31,
   "id": "ef71ae05-0328-41b1-bb66-660bf5def565",
   "metadata": {},
   "outputs": [],
   "source": [
    "# ---------------------------\n",
    "# Model - ResNet18 Transfer Learning\n",
    "# ---------------------------\n",
    "model = models.resnet18(pretrained=True)\n",
    "# Freeze the base parameters (optional for faster convergence)\n",
    "for param in model.parameters():\n",
    "    param.requires_grad = False\n",
    "\n",
    "\n",
    "# Replace the final fully-connected layer\n",
    "in_features = model.fc.in_features\n",
    "model.fc = nn.Sequential(\n",
    "nn.Linear(in_features, 256),\n",
    "nn.ReLU(inplace=True),\n",
    "nn.Dropout(0.4),\n",
    "nn.Linear(256, num_classes)\n",
    ")"
   ]
  },
  {
   "cell_type": "code",
   "execution_count": 32,
   "id": "076fa7e1-9226-4978-8f8f-bfd8fba4b78a",
   "metadata": {},
   "outputs": [],
   "source": [
    "# Unfreeze the final fc layer parameters\n",
    "for param in model.fc.parameters():\n",
    "    param.requires_grad = True\n",
    "\n",
    "\n",
    "model = model.to(DEVICE)"
   ]
  },
  {
   "cell_type": "code",
   "execution_count": 33,
   "id": "9b9849cd-29a3-420e-96f5-8e98a01b8d03",
   "metadata": {},
   "outputs": [],
   "source": [
    "# Loss, optimizer, scheduler\n",
    "# If class imbalance exists, you can compute class weights and pass to CrossEntropyLoss\n",
    "# Example (commented):\n",
    "# from collections import Counter\n",
    "# counts = Counter([s[1] for s in full_dataset.samples])\n",
    "# weights = [1.0/counts[i] for i in range(num_classes)]\n",
    "# class_weights = torch.FloatTensor(weights).to(DEVICE)\n",
    "# criterion = nn.CrossEntropyLoss(weight=class_weights)\n",
    "criterion = nn.CrossEntropyLoss()\n",
    "optimizer = torch.optim.Adam(filter(lambda p: p.requires_grad, model.parameters()), lr=LR, weight_decay=WEIGHT_DECAY)\n",
    "scheduler = lr_scheduler.StepLR(optimizer, step_size=7, gamma=0.1)"
   ]
  },
  {
   "cell_type": "code",
   "execution_count": 37,
   "id": "b8c0a020-61da-4259-961d-a60a7e63853d",
   "metadata": {},
   "outputs": [],
   "source": [
    "# ---------------------------\n",
    "# Training & Validation loops\n",
    "# ---------------------------\n",
    "\n",
    "\n",
    "def train_one_epoch(model, dataloader, optimizer, criterion, device):\n",
    "    model.train()\n",
    "    running_loss = 0.0\n",
    "    preds_all = []\n",
    "    labels_all = []\n",
    "\n",
    "\n",
    "    for images, labels in tqdm(dataloader, desc=\"Train\", leave=False):\n",
    "        images = images.to(device)\n",
    "        labels = labels.to(device)\n",
    "\n",
    "\n",
    "        optimizer.zero_grad()\n",
    "        outputs = model(images)\n",
    "        loss = criterion(outputs, labels)\n",
    "        loss.backward()\n",
    "        optimizer.step()\n",
    "\n",
    "\n",
    "        running_loss += loss.item() * images.size(0)\n",
    "        preds = outputs.argmax(dim=1).detach().cpu().numpy()\n",
    "        labels_cpu = labels.detach().cpu().numpy()\n",
    "        preds_all.extend(preds.tolist())\n",
    "        labels_all.extend(labels_cpu.tolist())\n",
    "\n",
    "\n",
    "    epoch_loss = running_loss / len(dataloader.dataset)\n",
    "    acc = accuracy_score(labels_all, preds_all)\n",
    "    return epoch_loss, acc\n"
   ]
  },
  {
   "cell_type": "code",
   "execution_count": 38,
   "id": "74a3a42b-e672-403b-98b6-ee3ce8135bdc",
   "metadata": {},
   "outputs": [
    {
     "name": "stdout",
     "output_type": "stream",
     "text": [
      "Epoch 1/20\n"
     ]
    },
    {
     "name": "stderr",
     "output_type": "stream",
     "text": [
      "                                                                                                                       \r"
     ]
    },
    {
     "name": "stdout",
     "output_type": "stream",
     "text": [
      " Train loss: 0.2520 acc: 0.9129\n",
      " Val loss: 0.1192 acc: 0.9587 precision: 0.9178 recall: 0.9036 f1: 0.9058\n",
      "Epoch 2/20\n"
     ]
    },
    {
     "name": "stderr",
     "output_type": "stream",
     "text": [
      "                                                                                                                       \r"
     ]
    },
    {
     "name": "stdout",
     "output_type": "stream",
     "text": [
      " Train loss: 0.1378 acc: 0.9511\n",
      " Val loss: 0.0926 acc: 0.9664 precision: 0.9300 recall: 0.9202 f1: 0.9208\n",
      "Epoch 3/20\n"
     ]
    },
    {
     "name": "stderr",
     "output_type": "stream",
     "text": [
      "                                                                                                                       \r"
     ]
    },
    {
     "name": "stdout",
     "output_type": "stream",
     "text": [
      " Train loss: 0.1166 acc: 0.9585\n",
      " Val loss: 0.0884 acc: 0.9691 precision: 0.9320 recall: 0.9293 f1: 0.9272\n",
      "Epoch 4/20\n"
     ]
    },
    {
     "name": "stderr",
     "output_type": "stream",
     "text": [
      "                                                                                                                       \r"
     ]
    },
    {
     "name": "stdout",
     "output_type": "stream",
     "text": [
      " Train loss: 0.0981 acc: 0.9645\n",
      " Val loss: 0.0847 acc: 0.9723 precision: 0.9419 recall: 0.9342 f1: 0.9352\n",
      "Epoch 5/20\n"
     ]
    },
    {
     "name": "stderr",
     "output_type": "stream",
     "text": [
      "                                                                                                                       \r"
     ]
    },
    {
     "name": "stdout",
     "output_type": "stream",
     "text": [
      " Train loss: 0.1003 acc: 0.9648\n",
      " Val loss: 0.0734 acc: 0.9769 precision: 0.9529 recall: 0.9450 f1: 0.9483\n",
      "Epoch 6/20\n"
     ]
    },
    {
     "name": "stderr",
     "output_type": "stream",
     "text": [
      "                                                                                                                       \r"
     ]
    },
    {
     "name": "stdout",
     "output_type": "stream",
     "text": [
      " Train loss: 0.0896 acc: 0.9677\n",
      " Val loss: 0.0741 acc: 0.9741 precision: 0.9406 recall: 0.9454 f1: 0.9428\n",
      "Epoch 7/20\n"
     ]
    },
    {
     "name": "stderr",
     "output_type": "stream",
     "text": [
      "                                                                                                                       \r"
     ]
    },
    {
     "name": "stdout",
     "output_type": "stream",
     "text": [
      " Train loss: 0.0892 acc: 0.9685\n",
      " Val loss: 0.0673 acc: 0.9782 precision: 0.9524 recall: 0.9495 f1: 0.9508\n",
      "Epoch 8/20\n"
     ]
    },
    {
     "name": "stderr",
     "output_type": "stream",
     "text": [
      "                                                                                                                       \r"
     ]
    },
    {
     "name": "stdout",
     "output_type": "stream",
     "text": [
      " Train loss: 0.0635 acc: 0.9783\n",
      " Val loss: 0.0658 acc: 0.9796 precision: 0.9531 recall: 0.9554 f1: 0.9543\n",
      "Epoch 9/20\n"
     ]
    },
    {
     "name": "stderr",
     "output_type": "stream",
     "text": [
      "                                                                                                                       \r"
     ]
    },
    {
     "name": "stdout",
     "output_type": "stream",
     "text": [
      " Train loss: 0.0573 acc: 0.9799\n",
      " Val loss: 0.0694 acc: 0.9809 precision: 0.9588 recall: 0.9539 f1: 0.9560\n",
      "Epoch 10/20\n"
     ]
    },
    {
     "name": "stderr",
     "output_type": "stream",
     "text": [
      "                                                                                                                       \r"
     ]
    },
    {
     "name": "stdout",
     "output_type": "stream",
     "text": [
      " Train loss: 0.0555 acc: 0.9792\n",
      " Val loss: 0.0624 acc: 0.9819 precision: 0.9586 recall: 0.9585 f1: 0.9585\n",
      "Epoch 11/20\n"
     ]
    },
    {
     "name": "stderr",
     "output_type": "stream",
     "text": [
      "                                                                                                                       \r"
     ]
    },
    {
     "name": "stdout",
     "output_type": "stream",
     "text": [
      " Train loss: 0.0531 acc: 0.9815\n",
      " Val loss: 0.0672 acc: 0.9787 precision: 0.9518 recall: 0.9496 f1: 0.9504\n",
      "Epoch 12/20\n"
     ]
    },
    {
     "name": "stderr",
     "output_type": "stream",
     "text": [
      "                                                                                                                       \r"
     ]
    },
    {
     "name": "stdout",
     "output_type": "stream",
     "text": [
      " Train loss: 0.0566 acc: 0.9795\n",
      " Val loss: 0.0676 acc: 0.9764 precision: 0.9467 recall: 0.9460 f1: 0.9460\n",
      "Epoch 13/20\n"
     ]
    },
    {
     "name": "stderr",
     "output_type": "stream",
     "text": [
      "                                                                                                                       \r"
     ]
    },
    {
     "name": "stdout",
     "output_type": "stream",
     "text": [
      " Train loss: 0.0484 acc: 0.9832\n",
      " Val loss: 0.0642 acc: 0.9787 precision: 0.9515 recall: 0.9506 f1: 0.9510\n",
      "Epoch 14/20\n"
     ]
    },
    {
     "name": "stderr",
     "output_type": "stream",
     "text": [
      "                                                                                                                       \r"
     ]
    },
    {
     "name": "stdout",
     "output_type": "stream",
     "text": [
      " Train loss: 0.0508 acc: 0.9807\n",
      " Val loss: 0.0623 acc: 0.9805 precision: 0.9543 recall: 0.9560 f1: 0.9550\n",
      "Epoch 15/20\n"
     ]
    },
    {
     "name": "stderr",
     "output_type": "stream",
     "text": [
      "                                                                                                                       \r"
     ]
    },
    {
     "name": "stdout",
     "output_type": "stream",
     "text": [
      " Train loss: 0.0492 acc: 0.9819\n",
      " Val loss: 0.0638 acc: 0.9796 precision: 0.9541 recall: 0.9522 f1: 0.9531\n",
      "Epoch 16/20\n"
     ]
    },
    {
     "name": "stderr",
     "output_type": "stream",
     "text": [
      "                                                                                                                       \r"
     ]
    },
    {
     "name": "stdout",
     "output_type": "stream",
     "text": [
      " Train loss: 0.0460 acc: 0.9849\n",
      " Val loss: 0.0612 acc: 0.9823 precision: 0.9599 recall: 0.9588 f1: 0.9592\n",
      "Epoch 17/20\n"
     ]
    },
    {
     "name": "stderr",
     "output_type": "stream",
     "text": [
      "                                                                                                                       \r"
     ]
    },
    {
     "name": "stdout",
     "output_type": "stream",
     "text": [
      " Train loss: 0.0489 acc: 0.9816\n",
      " Val loss: 0.0648 acc: 0.9796 precision: 0.9549 recall: 0.9525 f1: 0.9537\n",
      "Epoch 18/20\n"
     ]
    },
    {
     "name": "stderr",
     "output_type": "stream",
     "text": [
      "                                                                                                                       \r"
     ]
    },
    {
     "name": "stdout",
     "output_type": "stream",
     "text": [
      " Train loss: 0.0519 acc: 0.9809\n",
      " Val loss: 0.0632 acc: 0.9805 precision: 0.9564 recall: 0.9561 f1: 0.9560\n",
      "Epoch 19/20\n"
     ]
    },
    {
     "name": "stderr",
     "output_type": "stream",
     "text": [
      "                                                                                                                       \r"
     ]
    },
    {
     "name": "stdout",
     "output_type": "stream",
     "text": [
      " Train loss: 0.0457 acc: 0.9851\n",
      " Val loss: 0.0629 acc: 0.9787 precision: 0.9537 recall: 0.9499 f1: 0.9517\n",
      "Epoch 20/20\n"
     ]
    },
    {
     "name": "stderr",
     "output_type": "stream",
     "text": [
      "                                                                                                                       "
     ]
    },
    {
     "name": "stdout",
     "output_type": "stream",
     "text": [
      " Train loss: 0.0434 acc: 0.9861\n",
      " Val loss: 0.0597 acc: 0.9809 precision: 0.9559 recall: 0.9559 f1: 0.9559\n"
     ]
    },
    {
     "name": "stderr",
     "output_type": "stream",
     "text": [
      "\r"
     ]
    }
   ],
   "source": [
    "def evaluate(model, dataloader, criterion, device):\n",
    "    model.eval()\n",
    "    running_loss = 0.0\n",
    "    preds_all = []\n",
    "    labels_all = []\n",
    "\n",
    "\n",
    "    with torch.no_grad():\n",
    "        for images, labels in tqdm(dataloader, desc=\"Val\", leave=False):\n",
    "            images = images.to(device)\n",
    "            labels = labels.to(device)\n",
    "\n",
    "\n",
    "            outputs = model(images)\n",
    "            loss = criterion(outputs, labels)\n",
    "\n",
    "\n",
    "            running_loss += loss.item() * images.size(0)\n",
    "            preds = outputs.argmax(dim=1).detach().cpu().numpy()\n",
    "            labels_cpu = labels.detach().cpu().numpy()\n",
    "            preds_all.extend(preds.tolist())\n",
    "            labels_all.extend(labels_cpu.tolist())\n",
    "\n",
    "\n",
    "    epoch_loss = running_loss / len(dataloader.dataset)\n",
    "    acc = accuracy_score(labels_all, preds_all)\n",
    "    precision, recall, f1, _ = precision_recall_fscore_support(labels_all, preds_all, average='macro', zero_division=0)\n",
    "    cm = confusion_matrix(labels_all, preds_all)\n",
    "    return epoch_loss, acc, precision, recall, f1, cm, labels_all, preds_all\n",
    "\n",
    "best_val_acc = 0.0\n",
    "history = {\"train_loss\": [], \"train_acc\": [], \"val_loss\": [], \"val_acc\": [], \"val_precision\": [], \"val_recall\": [], \"val_f1\": []}\n",
    "\n",
    "\n",
    "start_time = time.time()\n",
    "for epoch in range(1, NUM_EPOCHS + 1):\n",
    "    print(f\"Epoch {epoch}/{NUM_EPOCHS}\")\n",
    "    train_loss, train_acc = train_one_epoch(model, train_loader, optimizer, criterion, DEVICE)\n",
    "    val_loss, val_acc, val_precision, val_recall, val_f1, cm, val_labels, val_preds = evaluate(model, val_loader, criterion, DEVICE)\n",
    "\n",
    "\n",
    "    scheduler.step()\n",
    "\n",
    "\n",
    "    history[\"train_loss\"].append(train_loss)\n",
    "    history[\"train_acc\"].append(train_acc)\n",
    "    history[\"val_loss\"].append(val_loss)\n",
    "    history[\"val_acc\"].append(val_acc)\n",
    "    history[\"val_precision\"].append(val_precision)\n",
    "    history[\"val_recall\"].append(val_recall)\n",
    "    history[\"val_f1\"].append(val_f1)\n",
    "\n",
    "\n",
    "    print(f\" Train loss: {train_loss:.4f} acc: {train_acc:.4f}\")\n",
    "    print(f\" Val loss: {val_loss:.4f} acc: {val_acc:.4f} precision: {val_precision:.4f} recall: {val_recall:.4f} f1: {val_f1:.4f}\")"
   ]
  },
  {
   "cell_type": "code",
   "execution_count": 39,
   "id": "81bf02e0-3ad8-42cd-89f3-9d2a18ebeab9",
   "metadata": {},
   "outputs": [
    {
     "name": "stdout",
     "output_type": "stream",
     "text": [
      " Saved best model to best_resnet18_materials.pth\n",
      "Training complete in 193m 40s. Best val acc: 0.9809\n"
     ]
    }
   ],
   "source": [
    "# save best\n",
    "if val_acc > best_val_acc:\n",
    "    best_val_acc = val_acc\n",
    "    best_model_wts = copy.deepcopy(model.state_dict())\n",
    "    torch.save({\n",
    "        'model_state_dict': best_model_wts,\n",
    "        'class_names': class_names,\n",
    "        'epoch': epoch,\n",
    "        'val_acc': best_val_acc\n",
    "    }, BEST_MODEL_PATH)\n",
    "    print(f\" Saved best model to {BEST_MODEL_PATH}\")\n",
    "\n",
    "\n",
    "elapsed = time.time() - start_time\n",
    "print(f\"Training complete in {elapsed//60:.0f}m {elapsed%60:.0f}s. Best val acc: {best_val_acc:.4f}\")"
   ]
  },
  {
   "cell_type": "code",
   "execution_count": 41,
   "id": "10d49ef1-d403-4306-af6e-8b03265d65f9",
   "metadata": {},
   "outputs": [
    {
     "name": "stderr",
     "output_type": "stream",
     "text": [
      "C:\\Users\\varun\\AppData\\Local\\Temp\\ipykernel_29248\\199567226.py:6: FutureWarning: You are using `torch.load` with `weights_only=False` (the current default value), which uses the default pickle module implicitly. It is possible to construct malicious pickle data which will execute arbitrary code during unpickling (See https://github.com/pytorch/pytorch/blob/main/SECURITY.md#untrusted-models for more details). In a future release, the default value for `weights_only` will be flipped to `True`. This limits the functions that could be executed during unpickling. Arbitrary objects will no longer be allowed to be loaded via this mode unless they are explicitly allowlisted by the user via `torch.serialization.add_safe_globals`. We recommend you start setting `weights_only=True` for any use case where you don't have full control of the loaded file. Please open an issue on GitHub for any issues related to this experimental feature.\n",
      "  checkpoint = torch.load(BEST_MODEL_PATH, map_location=DEVICE)\n",
      "                                                                                                                       \r"
     ]
    },
    {
     "name": "stdout",
     "output_type": "stream",
     "text": [
      "Final evaluation on validation set:\n",
      " Accuracy: 0.9809\n",
      " Precision (macro): 0.9559\n",
      " Recall (macro): 0.9559\n",
      " F1 (macro): 0.9559\n",
      "Saved confusion matrix to confusion_matrix.png\n"
     ]
    },
    {
     "data": {
      "image/png": "[encoded data removed]",
      "text/plain": [
       "<Figure size 800x600 with 2 Axes>"
      ]
     },
     "metadata": {},
     "output_type": "display_data"
    }
   ],
   "source": [
    "# ---------------------------\n",
    "# Final evaluation & confusion matrix plot\n",
    "# ---------------------------\n",
    "# Load best model for final eval\n",
    "if os.path.exists(BEST_MODEL_PATH):\n",
    "    checkpoint = torch.load(BEST_MODEL_PATH, map_location=DEVICE)\n",
    "    model.load_state_dict(checkpoint['model_state_dict'])\n",
    "\n",
    "\n",
    "model.eval()\n",
    "_, final_acc, final_precision, final_recall, final_f1, cm, y_true, y_pred = evaluate(model, val_loader, criterion, DEVICE)\n",
    "\n",
    "\n",
    "print(\"Final evaluation on validation set:\")\n",
    "print(f\" Accuracy: {final_acc:.4f}\")\n",
    "print(f\" Precision (macro): {final_precision:.4f}\")\n",
    "print(f\" Recall (macro): {final_recall:.4f}\")\n",
    "print(f\" F1 (macro): {final_f1:.4f}\")\n",
    "\n",
    "\n",
    "# plot confusion matrix\n",
    "plt.figure(figsize=(8, 6))\n",
    "plt.imshow(cm, interpolation='nearest', cmap=plt.cm.Blues)\n",
    "plt.title('Confusion matrix')\n",
    "plt.colorbar()\n",
    "tick_marks = np.arange(len(class_names))\n",
    "plt.xticks(tick_marks, class_names, rotation=45, ha='right')\n",
    "plt.yticks(tick_marks, class_names)\n",
    "\n",
    "\n",
    "thresh = cm.max() / 2.\n",
    "for i, j in np.ndindex(cm.shape):\n",
    "    plt.text(j, i, format(cm[i, j], 'd'), horizontalalignment=\"center\",\n",
    "        color=\"white\" if cm[i, j] > thresh else \"black\")\n",
    "\n",
    "\n",
    "plt.ylabel('True label')\n",
    "plt.xlabel('Predicted label')\n",
    "plt.tight_layout()\n",
    "plt.savefig('confusion_matrix.png', bbox_inches='tight')\n",
    "print('Saved confusion matrix to confusion_matrix.png')"
   ]
  },
  {
   "cell_type": "code",
   "execution_count": 72,
   "id": "8e90cd92-fd56-47d2-9150-181f435351dd",
   "metadata": {},
   "outputs": [
    {
     "name": "stdout",
     "output_type": "stream",
     "text": [
      "Predicted: fabric, confidences: [8.4367835e-10 9.9999976e-01 4.7294716e-08 7.6036237e-08 7.9640778e-08]\n",
      "Script finished.\n"
     ]
    }
   ],
   "source": [
    "# ---------------------------\n",
    "# Inference helper\n",
    "# ---------------------------\n",
    "from PIL import Image\n",
    "\n",
    "\n",
    "def predict_image(image_path, model, transform, device):\n",
    "    model.eval()\n",
    "    img = Image.open(image_path).convert('RGB')\n",
    "    x = transform(img).unsqueeze(0).to(device)\n",
    "    with torch.no_grad():\n",
    "        out = model(x)\n",
    "        prob = torch.softmax(out, dim=1).cpu().numpy()[0]\n",
    "        pred_idx = int(out.argmax(dim=1).cpu().numpy()[0])\n",
    "    return class_names[pred_idx], prob\n",
    "\n",
    "\n",
    "# Example usage (uncomment and update path):\n",
    "img_path = 'Dataset/fabric/fabric1.jpg'\n",
    "pred_class, prob = predict_image(img_path, model, val_transforms, DEVICE)\n",
    "print(f'Predicted: {pred_class}, confidences: {prob}')\n",
    "\n",
    "\n",
    "print('Script finished.')"
   ]
  },
  {
   "cell_type": "code",
   "execution_count": 48,
   "id": "1fb6fc19-624f-41a7-9812-f28961d0498d",
   "metadata": {},
   "outputs": [
    {
     "name": "stdout",
     "output_type": "stream",
     "text": [
      "^C\n",
      "Note: you may need to restart the kernel to use updated packages.\n",
      "Collecting onnx\n",
      "  Downloading onnx-1.19.0-cp312-cp312-win_amd64.whl.metadata (7.2 kB)\n",
      "Requirement already satisfied: numpy>=1.22 in c:\\users\\varun\\appdata\\local\\programs\\python\\python312\\lib\\site-packages (from onnx) (1.26.4)\n",
      "Collecting protobuf>=4.25.1 (from onnx)\n",
      "  Using cached protobuf-6.32.1-cp310-abi3-win_amd64.whl.metadata (593 bytes)\n",
      "Requirement already satisfied: typing_extensions>=4.7.1 in c:\\users\\varun\\appdata\\local\\programs\\python\\python312\\lib\\site-packages (from onnx) (4.12.2)\n",
      "Requirement already satisfied: ml_dtypes in c:\\users\\varun\\appdata\\local\\programs\\python\\python312\\lib\\site-packages (from onnx) (0.4.1)\n",
      "Downloading onnx-1.19.0-cp312-cp312-win_amd64.whl (16.5 MB)\n",
      "   ---------------------------------------- 0.0/16.5 MB ? eta -:--:--\n",
      "   ---------------------------------------- 0.0/16.5 MB ? eta -:--:--\n",
      "    --------------------------------------- 0.3/16.5 MB ? eta -:--:--\n",
      "   - -------------------------------------- 0.5/16.5 MB 1.4 MB/s eta 0:00:12\n",
      "   - -------------------------------------- 0.8/16.5 MB 1.4 MB/s eta 0:00:12\n",
      "   --- ------------------------------------ 1.3/16.5 MB 1.5 MB/s eta 0:00:11\n",
      "   --- ------------------------------------ 1.6/16.5 MB 1.5 MB/s eta 0:00:10\n",
      "   ---- ----------------------------------- 1.8/16.5 MB 1.4 MB/s eta 0:00:11\n",
      "   ---- ----------------------------------- 1.8/16.5 MB 1.4 MB/s eta 0:00:11\n",
      "   ---- ----------------------------------- 1.8/16.5 MB 1.4 MB/s eta 0:00:11\n",
      "   ----- ---------------------------------- 2.1/16.5 MB 1.0 MB/s eta 0:00:15\n",
      "   ----- ---------------------------------- 2.4/16.5 MB 1.1 MB/s eta 0:00:14\n",
      "   ------ --------------------------------- 2.6/16.5 MB 1.1 MB/s eta 0:00:13\n",
      "   ------- -------------------------------- 2.9/16.5 MB 1.1 MB/s eta 0:00:13\n",
      "   ------- -------------------------------- 3.1/16.5 MB 1.1 MB/s eta 0:00:12\n",
      "   -------- ------------------------------- 3.4/16.5 MB 1.2 MB/s eta 0:00:12\n",
      "   -------- ------------------------------- 3.7/16.5 MB 1.1 MB/s eta 0:00:12\n",
      "   -------- ------------------------------- 3.7/16.5 MB 1.1 MB/s eta 0:00:12\n",
      "   --------- ------------------------------ 3.9/16.5 MB 1.1 MB/s eta 0:00:12\n",
      "   --------- ------------------------------ 3.9/16.5 MB 1.1 MB/s eta 0:00:12\n",
      "   --------- ------------------------------ 3.9/16.5 MB 1.1 MB/s eta 0:00:12\n",
      "   ---------- ----------------------------- 4.2/16.5 MB 949.8 kB/s eta 0:00:13\n",
      "   ---------- ----------------------------- 4.2/16.5 MB 949.8 kB/s eta 0:00:13\n",
      "   ---------- ----------------------------- 4.2/16.5 MB 949.8 kB/s eta 0:00:13\n",
      "   ---------- ----------------------------- 4.5/16.5 MB 877.3 kB/s eta 0:00:14\n",
      "   ---------- ----------------------------- 4.5/16.5 MB 877.3 kB/s eta 0:00:14\n",
      "   ---------- ----------------------------- 4.5/16.5 MB 877.3 kB/s eta 0:00:14\n",
      "   ----------- ---------------------------- 4.7/16.5 MB 826.8 kB/s eta 0:00:15\n",
      "   ----------- ---------------------------- 4.7/16.5 MB 826.8 kB/s eta 0:00:15\n",
      "   ----------- ---------------------------- 4.7/16.5 MB 826.8 kB/s eta 0:00:15\n",
      "   ------------ --------------------------- 5.0/16.5 MB 792.6 kB/s eta 0:00:15\n",
      "   ------------ --------------------------- 5.0/16.5 MB 792.6 kB/s eta 0:00:15\n",
      "   ------------ --------------------------- 5.2/16.5 MB 773.8 kB/s eta 0:00:15\n",
      "   ------------ --------------------------- 5.2/16.5 MB 773.8 kB/s eta 0:00:15\n",
      "   ------------- -------------------------- 5.5/16.5 MB 764.4 kB/s eta 0:00:15\n",
      "   ------------- -------------------------- 5.5/16.5 MB 764.4 kB/s eta 0:00:15\n",
      "   -------------- ------------------------- 5.8/16.5 MB 756.1 kB/s eta 0:00:15\n",
      "   -------------- ------------------------- 5.8/16.5 MB 756.1 kB/s eta 0:00:15\n",
      "   -------------- ------------------------- 6.0/16.5 MB 741.2 kB/s eta 0:00:15\n",
      "   -------------- ------------------------- 6.0/16.5 MB 741.2 kB/s eta 0:00:15\n",
      "   -------------- ------------------------- 6.0/16.5 MB 741.2 kB/s eta 0:00:15\n",
      "   --------------- ------------------------ 6.3/16.5 MB 728.1 kB/s eta 0:00:14\n",
      "   --------------- ------------------------ 6.3/16.5 MB 728.1 kB/s eta 0:00:14\n",
      "   --------------- ------------------------ 6.6/16.5 MB 711.5 kB/s eta 0:00:14\n",
      "   --------------- ------------------------ 6.6/16.5 MB 711.5 kB/s eta 0:00:14\n",
      "   --------------- ------------------------ 6.6/16.5 MB 711.5 kB/s eta 0:00:14\n",
      "   ---------------- ----------------------- 6.8/16.5 MB 694.5 kB/s eta 0:00:14\n",
      "   ---------------- ----------------------- 6.8/16.5 MB 694.5 kB/s eta 0:00:14\n",
      "   ----------------- ---------------------- 7.1/16.5 MB 683.8 kB/s eta 0:00:14\n",
      "   ----------------- ---------------------- 7.1/16.5 MB 683.8 kB/s eta 0:00:14\n",
      "   ----------------- ---------------------- 7.1/16.5 MB 683.8 kB/s eta 0:00:14\n",
      "   ----------------- ---------------------- 7.3/16.5 MB 675.1 kB/s eta 0:00:14\n",
      "   ----------------- ---------------------- 7.3/16.5 MB 675.1 kB/s eta 0:00:14\n",
      "   ------------------ --------------------- 7.6/16.5 MB 671.1 kB/s eta 0:00:14\n",
      "   ------------------ --------------------- 7.6/16.5 MB 671.1 kB/s eta 0:00:14\n",
      "   ------------------ --------------------- 7.6/16.5 MB 671.1 kB/s eta 0:00:14\n",
      "   ------------------ --------------------- 7.6/16.5 MB 671.1 kB/s eta 0:00:14\n",
      "   ------------------- -------------------- 7.9/16.5 MB 644.5 kB/s eta 0:00:14\n",
      "   ------------------- -------------------- 7.9/16.5 MB 644.5 kB/s eta 0:00:14\n",
      "   ------------------- -------------------- 7.9/16.5 MB 644.5 kB/s eta 0:00:14\n",
      "   ------------------- -------------------- 7.9/16.5 MB 644.5 kB/s eta 0:00:14\n",
      "   ------------------- -------------------- 7.9/16.5 MB 644.5 kB/s eta 0:00:14\n",
      "   ------------------- -------------------- 7.9/16.5 MB 644.5 kB/s eta 0:00:14\n",
      "   ------------------- -------------------- 7.9/16.5 MB 644.5 kB/s eta 0:00:14\n",
      "   ------------------- -------------------- 8.1/16.5 MB 593.5 kB/s eta 0:00:15\n",
      "   ------------------- -------------------- 8.1/16.5 MB 593.5 kB/s eta 0:00:15\n",
      "   ------------------- -------------------- 8.1/16.5 MB 593.5 kB/s eta 0:00:15\n",
      "   ------------------- -------------------- 8.1/16.5 MB 593.5 kB/s eta 0:00:15\n",
      "   ------------------- -------------------- 8.1/16.5 MB 593.5 kB/s eta 0:00:15\n",
      "   -------------------- ------------------- 8.4/16.5 MB 564.7 kB/s eta 0:00:15\n",
      "   -------------------- ------------------- 8.4/16.5 MB 564.7 kB/s eta 0:00:15\n",
      "   -------------------- ------------------- 8.4/16.5 MB 564.7 kB/s eta 0:00:15\n",
      "   -------------------- ------------------- 8.4/16.5 MB 564.7 kB/s eta 0:00:15\n",
      "   -------------------- ------------------- 8.4/16.5 MB 564.7 kB/s eta 0:00:15\n",
      "   --------------------- ------------------ 8.7/16.5 MB 544.5 kB/s eta 0:00:15\n",
      "   --------------------- ------------------ 8.7/16.5 MB 544.5 kB/s eta 0:00:15\n",
      "   --------------------- ------------------ 8.7/16.5 MB 544.5 kB/s eta 0:00:15\n",
      "   --------------------- ------------------ 8.7/16.5 MB 544.5 kB/s eta 0:00:15\n",
      "   --------------------- ------------------ 8.9/16.5 MB 532.4 kB/s eta 0:00:15\n",
      "   --------------------- ------------------ 8.9/16.5 MB 532.4 kB/s eta 0:00:15\n",
      "   --------------------- ------------------ 8.9/16.5 MB 532.4 kB/s eta 0:00:15\n",
      "   --------------------- ------------------ 8.9/16.5 MB 532.4 kB/s eta 0:00:15\n",
      "   --------------------- ------------------ 8.9/16.5 MB 532.4 kB/s eta 0:00:15\n",
      "   --------------------- ------------------ 8.9/16.5 MB 532.4 kB/s eta 0:00:15\n",
      "   ---------------------- ----------------- 9.2/16.5 MB 503.5 kB/s eta 0:00:15\n",
      "   ---------------------- ----------------- 9.2/16.5 MB 503.5 kB/s eta 0:00:15\n",
      "   ---------------------- ----------------- 9.2/16.5 MB 503.5 kB/s eta 0:00:15\n",
      "   ---------------------- ----------------- 9.2/16.5 MB 503.5 kB/s eta 0:00:15\n",
      "   ---------------------- ----------------- 9.2/16.5 MB 503.5 kB/s eta 0:00:15\n",
      "   ---------------------- ----------------- 9.2/16.5 MB 503.5 kB/s eta 0:00:15\n",
      "   ---------------------- ----------------- 9.4/16.5 MB 482.5 kB/s eta 0:00:15\n",
      "   ---------------------- ----------------- 9.4/16.5 MB 482.5 kB/s eta 0:00:15\n",
      "   ---------------------- ----------------- 9.4/16.5 MB 482.5 kB/s eta 0:00:15\n",
      "   ---------------------- ----------------- 9.4/16.5 MB 482.5 kB/s eta 0:00:15\n",
      "   ---------------------- ----------------- 9.4/16.5 MB 482.5 kB/s eta 0:00:15\n",
      "   ---------------------- ----------------- 9.4/16.5 MB 482.5 kB/s eta 0:00:15\n",
      "   ----------------------- ---------------- 9.7/16.5 MB 465.7 kB/s eta 0:00:15\n",
      "   ----------------------- ---------------- 9.7/16.5 MB 465.7 kB/s eta 0:00:15\n",
      "   ----------------------- ---------------- 9.7/16.5 MB 465.7 kB/s eta 0:00:15\n",
      "   ----------------------- ---------------- 9.7/16.5 MB 465.7 kB/s eta 0:00:15\n",
      "   ------------------------ --------------- 10.0/16.5 MB 458.1 kB/s eta 0:00:15\n",
      "   ------------------------ --------------- 10.0/16.5 MB 458.1 kB/s eta 0:00:15\n",
      "   ------------------------ --------------- 10.0/16.5 MB 458.1 kB/s eta 0:00:15\n",
      "   ------------------------ --------------- 10.0/16.5 MB 458.1 kB/s eta 0:00:15\n",
      "   ------------------------ --------------- 10.0/16.5 MB 458.1 kB/s eta 0:00:15\n",
      "   ------------------------ --------------- 10.2/16.5 MB 450.6 kB/s eta 0:00:14\n",
      "   ------------------------ --------------- 10.2/16.5 MB 450.6 kB/s eta 0:00:14\n",
      "   ------------------------ --------------- 10.2/16.5 MB 450.6 kB/s eta 0:00:14\n",
      "   ------------------------ --------------- 10.2/16.5 MB 450.6 kB/s eta 0:00:14\n",
      "   ------------------------- -------------- 10.5/16.5 MB 442.7 kB/s eta 0:00:14\n",
      "   ------------------------- -------------- 10.5/16.5 MB 442.7 kB/s eta 0:00:14\n",
      "   ------------------------- -------------- 10.5/16.5 MB 442.7 kB/s eta 0:00:14\n",
      "   ------------------------- -------------- 10.5/16.5 MB 442.7 kB/s eta 0:00:14\n",
      "   -------------------------- ------------- 10.7/16.5 MB 438.1 kB/s eta 0:00:14\n",
      "   -------------------------- ------------- 10.7/16.5 MB 438.1 kB/s eta 0:00:14\n",
      "   -------------------------- ------------- 10.7/16.5 MB 438.1 kB/s eta 0:00:14\n",
      "   -------------------------- ------------- 11.0/16.5 MB 436.7 kB/s eta 0:00:13\n",
      "   -------------------------- ------------- 11.0/16.5 MB 436.7 kB/s eta 0:00:13\n",
      "   -------------------------- ------------- 11.0/16.5 MB 436.7 kB/s eta 0:00:13\n",
      "   --------------------------- ------------ 11.3/16.5 MB 437.1 kB/s eta 0:00:12\n",
      "   --------------------------- ------------ 11.3/16.5 MB 437.1 kB/s eta 0:00:12\n",
      "   ---------------------------- ----------- 11.5/16.5 MB 438.6 kB/s eta 0:00:12\n",
      "   ---------------------------- ----------- 11.5/16.5 MB 438.6 kB/s eta 0:00:12\n",
      "   ---------------------------- ----------- 11.5/16.5 MB 438.6 kB/s eta 0:00:12\n",
      "   ---------------------------- ----------- 11.8/16.5 MB 440.5 kB/s eta 0:00:11\n",
      "   ---------------------------- ----------- 11.8/16.5 MB 440.5 kB/s eta 0:00:11\n",
      "   ----------------------------- ---------- 12.1/16.5 MB 443.1 kB/s eta 0:00:10\n",
      "   ----------------------------- ---------- 12.1/16.5 MB 443.1 kB/s eta 0:00:10\n",
      "   ----------------------------- ---------- 12.3/16.5 MB 446.1 kB/s eta 0:00:10\n",
      "   ----------------------------- ---------- 12.3/16.5 MB 446.1 kB/s eta 0:00:10\n",
      "   ------------------------------ --------- 12.6/16.5 MB 448.5 kB/s eta 0:00:09\n",
      "   ------------------------------ --------- 12.6/16.5 MB 448.5 kB/s eta 0:00:09\n",
      "   ------------------------------ --------- 12.6/16.5 MB 448.5 kB/s eta 0:00:09\n",
      "   ------------------------------- -------- 12.8/16.5 MB 447.2 kB/s eta 0:00:09\n",
      "   ------------------------------- -------- 12.8/16.5 MB 447.2 kB/s eta 0:00:09\n",
      "   ------------------------------- -------- 12.8/16.5 MB 447.2 kB/s eta 0:00:09\n",
      "   ------------------------------- -------- 12.8/16.5 MB 447.2 kB/s eta 0:00:09\n",
      "   ------------------------------- -------- 12.8/16.5 MB 447.2 kB/s eta 0:00:09\n",
      "   ------------------------------- -------- 13.1/16.5 MB 437.8 kB/s eta 0:00:08\n",
      "   ------------------------------- -------- 13.1/16.5 MB 437.8 kB/s eta 0:00:08\n",
      "   ------------------------------- -------- 13.1/16.5 MB 437.8 kB/s eta 0:00:08\n",
      "   ------------------------------- -------- 13.1/16.5 MB 437.8 kB/s eta 0:00:08\n",
      "   ------------------------------- -------- 13.1/16.5 MB 437.8 kB/s eta 0:00:08\n",
      "   ------------------------------- -------- 13.1/16.5 MB 437.8 kB/s eta 0:00:08\n",
      "   ------------------------------- -------- 13.1/16.5 MB 437.8 kB/s eta 0:00:08\n",
      "   ------------------------------- -------- 13.1/16.5 MB 437.8 kB/s eta 0:00:08\n",
      "   ------------------------------- -------- 13.1/16.5 MB 437.8 kB/s eta 0:00:08\n",
      "   ------------------------------- -------- 13.1/16.5 MB 437.8 kB/s eta 0:00:08\n",
      "   ------------------------------- -------- 13.1/16.5 MB 437.8 kB/s eta 0:00:08\n",
      "   ------------------------------- -------- 13.1/16.5 MB 437.8 kB/s eta 0:00:08\n",
      "   ------------------------------- -------- 13.1/16.5 MB 437.8 kB/s eta 0:00:08\n",
      "   ------------------------------- -------- 13.1/16.5 MB 437.8 kB/s eta 0:00:08\n",
      "   ------------------------------- -------- 13.1/16.5 MB 437.8 kB/s eta 0:00:08\n",
      "   ------------------------------- -------- 13.1/16.5 MB 437.8 kB/s eta 0:00:08\n",
      "   ------------------------------- -------- 13.1/16.5 MB 437.8 kB/s eta 0:00:08\n",
      "   ------------------------------- -------- 13.1/16.5 MB 437.8 kB/s eta 0:00:08\n",
      "   ------------------------------- -------- 13.1/16.5 MB 437.8 kB/s eta 0:00:08\n",
      "   -------------------------------- ------- 13.4/16.5 MB 314.9 kB/s eta 0:00:10\n",
      "   -------------------------------- ------- 13.4/16.5 MB 314.9 kB/s eta 0:00:10\n",
      "   -------------------------------- ------- 13.4/16.5 MB 314.9 kB/s eta 0:00:10\n",
      "   -------------------------------- ------- 13.4/16.5 MB 314.9 kB/s eta 0:00:10\n",
      "   -------------------------------- ------- 13.4/16.5 MB 314.9 kB/s eta 0:00:10\n",
      "   -------------------------------- ------- 13.4/16.5 MB 314.9 kB/s eta 0:00:10\n",
      "   -------------------------------- ------- 13.4/16.5 MB 314.9 kB/s eta 0:00:10\n",
      "   -------------------------------- ------- 13.4/16.5 MB 314.9 kB/s eta 0:00:10\n",
      "   -------------------------------- ------- 13.4/16.5 MB 314.9 kB/s eta 0:00:10\n",
      "   --------------------------------- ------ 13.6/16.5 MB 299.0 kB/s eta 0:00:10\n",
      "   --------------------------------- ------ 13.6/16.5 MB 299.0 kB/s eta 0:00:10\n",
      "   --------------------------------- ------ 13.6/16.5 MB 299.0 kB/s eta 0:00:10\n",
      "   --------------------------------- ------ 13.6/16.5 MB 299.0 kB/s eta 0:00:10\n",
      "   --------------------------------- ------ 13.6/16.5 MB 299.0 kB/s eta 0:00:10\n",
      "   --------------------------------- ------ 13.9/16.5 MB 290.3 kB/s eta 0:00:09\n",
      "   --------------------------------- ------ 13.9/16.5 MB 290.3 kB/s eta 0:00:09\n",
      "   --------------------------------- ------ 13.9/16.5 MB 290.3 kB/s eta 0:00:09\n",
      "   --------------------------------- ------ 13.9/16.5 MB 290.3 kB/s eta 0:00:09\n",
      "   ---------------------------------- ----- 14.2/16.5 MB 281.4 kB/s eta 0:00:09\n",
      "   ---------------------------------- ----- 14.2/16.5 MB 281.4 kB/s eta 0:00:09\n",
      "   ---------------------------------- ----- 14.2/16.5 MB 281.4 kB/s eta 0:00:09\n",
      "   ---------------------------------- ----- 14.2/16.5 MB 281.4 kB/s eta 0:00:09\n",
      "   ---------------------------------- ----- 14.2/16.5 MB 281.4 kB/s eta 0:00:09\n",
      "   ----------------------------------- ---- 14.4/16.5 MB 272.3 kB/s eta 0:00:08\n",
      "   ----------------------------------- ---- 14.4/16.5 MB 272.3 kB/s eta 0:00:08\n",
      "   ----------------------------------- ---- 14.4/16.5 MB 272.3 kB/s eta 0:00:08\n",
      "   ----------------------------------- ---- 14.7/16.5 MB 266.4 kB/s eta 0:00:07\n",
      "   ----------------------------------- ---- 14.7/16.5 MB 266.4 kB/s eta 0:00:07\n",
      "   ----------------------------------- ---- 14.7/16.5 MB 266.4 kB/s eta 0:00:07\n",
      "   ----------------------------------- ---- 14.7/16.5 MB 266.4 kB/s eta 0:00:07\n",
      "   ------------------------------------ --- 14.9/16.5 MB 263.7 kB/s eta 0:00:06\n",
      "   ------------------------------------ --- 14.9/16.5 MB 263.7 kB/s eta 0:00:06\n",
      "   ------------------------------------ --- 14.9/16.5 MB 263.7 kB/s eta 0:00:06\n",
      "   ------------------------------------ --- 14.9/16.5 MB 263.7 kB/s eta 0:00:06\n",
      "   ------------------------------------ --- 15.2/16.5 MB 255.5 kB/s eta 0:00:05\n",
      "   ------------------------------------ --- 15.2/16.5 MB 255.5 kB/s eta 0:00:05\n",
      "   ------------------------------------ --- 15.2/16.5 MB 255.5 kB/s eta 0:00:05\n",
      "   ------------------------------------ --- 15.2/16.5 MB 255.5 kB/s eta 0:00:05\n",
      "   ------------------------------------- -- 15.5/16.5 MB 255.5 kB/s eta 0:00:04\n",
      "   ------------------------------------- -- 15.5/16.5 MB 255.5 kB/s eta 0:00:04\n",
      "   ------------------------------------- -- 15.5/16.5 MB 255.5 kB/s eta 0:00:04\n",
      "   ------------------------------------- -- 15.5/16.5 MB 255.5 kB/s eta 0:00:04\n",
      "   -------------------------------------- - 15.7/16.5 MB 260.9 kB/s eta 0:00:03\n",
      "   -------------------------------------- - 15.7/16.5 MB 260.9 kB/s eta 0:00:03\n",
      "   -------------------------------------- - 15.7/16.5 MB 260.9 kB/s eta 0:00:03\n",
      "   -------------------------------------- - 15.7/16.5 MB 260.9 kB/s eta 0:00:03\n",
      "   -------------------------------------- - 16.0/16.5 MB 263.1 kB/s eta 0:00:02\n",
      "   -------------------------------------- - 16.0/16.5 MB 263.1 kB/s eta 0:00:02\n",
      "   -------------------------------------- - 16.0/16.5 MB 263.1 kB/s eta 0:00:02\n",
      "   -------------------------------------- - 16.0/16.5 MB 263.1 kB/s eta 0:00:02\n",
      "   -------------------------------------- - 16.0/16.5 MB 263.1 kB/s eta 0:00:02\n",
      "   -------------------------------------- - 16.0/16.5 MB 263.1 kB/s eta 0:00:02\n",
      "   ---------------------------------------  16.3/16.5 MB 261.9 kB/s eta 0:00:01\n",
      "   ---------------------------------------  16.3/16.5 MB 261.9 kB/s eta 0:00:01\n",
      "   ---------------------------------------  16.3/16.5 MB 261.9 kB/s eta 0:00:01\n",
      "   ---------------------------------------  16.3/16.5 MB 261.9 kB/s eta 0:00:01\n",
      "   ---------------------------------------- 16.5/16.5 MB 260.5 kB/s eta 0:00:00\n",
      "Downloading protobuf-6.32.1-cp310-abi3-win_amd64.whl (435 kB)\n",
      "Installing collected packages: protobuf, onnx\n",
      "  Attempting uninstall: protobuf\n",
      "    Found existing installation: protobuf 3.20.3\n",
      "    Uninstalling protobuf-3.20.3:\n",
      "      Successfully uninstalled protobuf-3.20.3\n",
      "Successfully installed onnx-1.19.0 protobuf-6.32.1\n"
     ]
    },
    {
     "name": "stderr",
     "output_type": "stream",
     "text": [
      "ERROR: pip's dependency resolver does not currently take into account all the packages that are installed. This behaviour is the source of the following dependency conflicts.\n",
      "streamlit 1.41.1 requires protobuf<6,>=3.20, but you have protobuf 6.32.1 which is incompatible.\n",
      "tensorflow-intel 2.18.0 requires protobuf!=4.21.0,!=4.21.1,!=4.21.2,!=4.21.3,!=4.21.4,!=4.21.5,<6.0.0dev,>=3.20.3, but you have protobuf 6.32.1 which is incompatible.\n",
      "\n",
      "[notice] A new release of pip is available: 24.3.1 -> 25.2\n",
      "[notice] To update, run: python.exe -m pip install --upgrade pip\n"
     ]
    }
   ],
   "source": [
    "pip install onnx\n"
   ]
  },
  {
   "cell_type": "code",
   "execution_count": 57,
   "id": "91038391-a8bd-48d5-b5df-e8048dc4ba0b",
   "metadata": {},
   "outputs": [
    {
     "name": "stdout",
     "output_type": "stream",
     "text": [
      "Requirement already satisfied: ml-dtypes in c:\\users\\varun\\appdata\\local\\programs\\python\\python312\\lib\\site-packages (0.4.1)\n",
      "Collecting ml-dtypes\n",
      "  Using cached ml_dtypes-0.5.3-cp312-cp312-win_amd64.whl.metadata (9.2 kB)\n",
      "Requirement already satisfied: numpy>=1.21 in c:\\users\\varun\\appdata\\local\\programs\\python\\python312\\lib\\site-packages (from ml-dtypes) (1.26.4)\n",
      "Downloading ml_dtypes-0.5.3-cp312-cp312-win_amd64.whl (208 kB)\n",
      "Installing collected packages: ml-dtypes\n",
      "  Attempting uninstall: ml-dtypes\n",
      "    Found existing installation: ml-dtypes 0.4.1\n",
      "    Uninstalling ml-dtypes-0.4.1:\n",
      "      Successfully uninstalled ml-dtypes-0.4.1\n",
      "Successfully installed ml-dtypes-0.5.3\n",
      "Note: you may need to restart the kernel to use updated packages.\n"
     ]
    },
    {
     "name": "stderr",
     "output_type": "stream",
     "text": [
      "  WARNING: Failed to remove contents in a temporary directory 'C:\\Users\\varun\\AppData\\Local\\Programs\\Python\\Python312\\Lib\\site-packages\\~l_dtypes'.\n",
      "  You can safely remove it manually.\n",
      "ERROR: pip's dependency resolver does not currently take into account all the packages that are installed. This behaviour is the source of the following dependency conflicts.\n",
      "tensorflow-intel 2.18.0 requires ml-dtypes<0.5.0,>=0.4.0, but you have ml-dtypes 0.5.3 which is incompatible.\n",
      "tensorflow-intel 2.18.0 requires protobuf!=4.21.0,!=4.21.1,!=4.21.2,!=4.21.3,!=4.21.4,!=4.21.5,<6.0.0dev,>=3.20.3, but you have protobuf 6.32.1 which is incompatible.\n",
      "\n",
      "[notice] A new release of pip is available: 24.3.1 -> 25.2\n",
      "[notice] To update, run: python.exe -m pip install --upgrade pip\n"
     ]
    }
   ],
   "source": [
    "pip install --upgrade ml-dtypes\n"
   ]
  },
  {
   "cell_type": "code",
   "execution_count": 85,
   "id": "71b3da44-c3e5-4b58-9181-3eb073327b70",
   "metadata": {},
   "outputs": [
    {
     "name": "stdout",
     "output_type": "stream",
     "text": [
      "TorchScript model saved to resnet18_materials.pt\n",
      "✗ ONNX export failed: module 'ml_dtypes' has no attribute 'float4_e2m1fn'\n"
     ]
    }
   ],
   "source": [
    "# ---------------------------\n",
    "# Model Export (choose ONNX or TorchScript)\n",
    "# ---------------------------\n",
    "\n",
    "EXPORT_ONNX_PATH = \"resnet18_materials.onnx\"\n",
    "EXPORT_TS_PATH = \"resnet18_materials.pt\"\n",
    "\n",
    "# Export to TorchScript\n",
    "dummy_input = torch.randn(1, 3, IMAGE_SIZE, IMAGE_SIZE, device=DEVICE)\n",
    "traced_model = torch.jit.trace(model, dummy_input)\n",
    "traced_model.save(EXPORT_TS_PATH)\n",
    "print(f\"TorchScript model saved to {EXPORT_TS_PATH}\")\n",
    "\n",
    "# Export to ONNX\n",
    "try:\n",
    "    torch.onnx.export(\n",
    "        model,\n",
    "        dummy_input,\n",
    "        EXPORT_ONNX_PATH,\n",
    "        input_names=[\"input\"],\n",
    "        output_names=[\"output\"],\n",
    "        dynamic_axes={\"input\": {0: \"batch\"}, \"output\": {0: \"batch\"}},\n",
    "        opset_version=11,  # Use 11 instead of 14 for better compatibility\n",
    "        export_params=True,\n",
    "        do_constant_folding=True,\n",
    "    )\n",
    "    print(f\"✓ ONNX model saved to {EXPORT_ONNX_PATH}\")\n",
    "except Exception as e:\n",
    "    print(f\"✗ ONNX export failed: {e}\")\n"
   ]
  },
  {
   "cell_type": "code",
   "execution_count": 86,
   "id": "3124344e-12cc-446a-b8ad-c2b7bcbceddf",
   "metadata": {},
   "outputs": [
    {
     "name": "stdout",
     "output_type": "stream",
     "text": [
      "\n",
      "=== Exporting Model ===\n",
      "✓ TorchScript model saved to resnet18_materials.pt\n",
      "✓ Metadata saved to model_metadata.json\n",
      "\n",
      "Attempting ONNX export (optional)...\n",
      "⚠ ONNX export failed (TorchScript is sufficient): module 'ml_dtypes' has no attribute 'float4_e2m1fn'\n"
     ]
    }
   ],
   "source": [
    "# ---------------------------\n",
    "# Model Export (TorchScript - More Reliable)\n",
    "# ---------------------------\n",
    "print(\"\\n=== Exporting Model ===\")\n",
    "\n",
    "EXPORT_TS_PATH = \"resnet18_materials.pt\"\n",
    "\n",
    "# Ensure model is in eval mode\n",
    "model.eval()\n",
    "dummy_input = torch.randn(1, 3, IMAGE_SIZE, IMAGE_SIZE, device=DEVICE)\n",
    "\n",
    "# Export to TorchScript\n",
    "try:\n",
    "    traced_model = torch.jit.trace(model, dummy_input)\n",
    "    traced_model.save(EXPORT_TS_PATH)\n",
    "    print(f\"✓ TorchScript model saved to {EXPORT_TS_PATH}\")\n",
    "    \n",
    "    # Save class names and metadata\n",
    "    import json\n",
    "    metadata = {\n",
    "        \"class_names\": class_names,\n",
    "        \"image_size\": IMAGE_SIZE,\n",
    "        \"num_classes\": num_classes,\n",
    "        \"model\": \"resnet18\",\n",
    "        \"best_val_acc\": float(best_val_acc)\n",
    "    }\n",
    "    with open(\"model_metadata.json\", \"w\") as f:\n",
    "        json.dump(metadata, f, indent=2)\n",
    "    print(f\"✓ Metadata saved to model_metadata.json\")\n",
    "    \n",
    "except Exception as e:\n",
    "    print(f\"✗ TorchScript export failed: {e}\")\n",
    "\n",
    "# Optional: Try ONNX export (gracefully fail if issues)\n",
    "print(\"\\nAttempting ONNX export (optional)...\")\n",
    "try:\n",
    "    EXPORT_ONNX_PATH = \"resnet18_materials.onnx\"\n",
    "    torch.onnx.export(\n",
    "        model,\n",
    "        dummy_input,\n",
    "        EXPORT_ONNX_PATH,\n",
    "        input_names=[\"input\"],\n",
    "        output_names=[\"output\"],\n",
    "        dynamic_axes={\"input\": {0: \"batch\"}, \"output\": {0: \"batch\"}},\n",
    "        opset_version=11,\n",
    "        export_params=True,\n",
    "        do_constant_folding=True,\n",
    "    )\n",
    "    print(f\"✓ ONNX model saved to {EXPORT_ONNX_PATH}\")\n",
    "except Exception as e:\n",
    "    print(f\"⚠ ONNX export failed (TorchScript is sufficient): {e}\")"
   ]
  },
  {
   "cell_type": "code",
   "execution_count": 89,
   "id": "21fcd769-9e0f-4788-aa02-d5f255f536ce",
   "metadata": {},
   "outputs": [
    {
     "name": "stdout",
     "output_type": "stream",
     "text": [
      "[TorchScript] Predicted: #fabric, Confidence: 1.0000\n"
     ]
    }
   ],
   "source": [
    "import torch\n",
    "\n",
    "from torchvision import transforms\n",
    "from PIL import Image\n",
    "import numpy as np\n",
    "\n",
    "IMAGE_SIZE = 224\n",
    "class_names = [\"#e-waste\", \"#fabric\", \"#metal\", \"#paper\", \"#plastic\"]  # same order as training\n",
    "\n",
    "# Preprocessing\n",
    "val_transforms = transforms.Compose([\n",
    "    transforms.Resize((IMAGE_SIZE, IMAGE_SIZE)),\n",
    "    transforms.ToTensor(),\n",
    "    transforms.Normalize(mean=[0.485, 0.456, 0.406],\n",
    "                         std=[0.229, 0.224, 0.225]),\n",
    "])\n",
    "\n",
    "def predict_torchscript(img_path, model_path=\"resnet18_materials.pt\"):\n",
    "    model = torch.jit.load(model_path, map_location=\"cpu\")\n",
    "    model.eval()\n",
    "    img = Image.open(img_path).convert(\"RGB\")\n",
    "    x = val_transforms(img).unsqueeze(0)\n",
    "    with torch.no_grad():\n",
    "        out = model(x)\n",
    "        probs = torch.softmax(out, dim=1)[0].numpy()\n",
    "        pred_idx = int(probs.argmax())\n",
    "    return class_names[pred_idx], float(probs[pred_idx])\n",
    "\n",
    "\n",
    "\n",
    "# Example usage\n",
    "if __name__ == \"__main__\":\n",
    "    img_path = \"Dataset/fabric/fabric1.jpg\"\n",
    "\n",
    "    pred, conf = predict_torchscript(img_path)\n",
    "    print(f\"[TorchScript] Predicted: {pred}, Confidence: {conf:.4f}\")\n",
    "\n",
    "   "
   ]
  },
  {
   "cell_type": "code",
   "execution_count": null,
   "id": "262071ac-d457-4fcb-a46c-0f533b12b45a",
   "metadata": {},
   "outputs": [],
   "source": []
  },
  {
   "cell_type": "code",
   "execution_count": null,
   "id": "b153c051-7fea-47e4-90b9-57c642041e40",
   "metadata": {},
   "outputs": [],
   "source": []
  }
 ],
 "metadata": {
  "kernelspec": {
   "display_name": "Python 3 (ipykernel)",
   "language": "python",
   "name": "python3"
  },
  "language_info": {
   "codemirror_mode": {
    "name": "ipython",
    "version": 3
   },
   "file_extension": ".py",
   "mimetype": "text/x-python",
   "name": "python",
   "nbconvert_exporter": "python",
   "pygments_lexer": "ipython3",
   "version": "3.12.3"
  }
 },
 "nbformat": 4,
 "nbformat_minor": 5
}
